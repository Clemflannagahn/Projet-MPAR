{
 "cells": [
  {
   "cell_type": "code",
   "execution_count": 94,
   "metadata": {},
   "outputs": [],
   "source": [
    "import mdp\n",
    "import pickle"
   ]
  },
  {
   "cell_type": "code",
   "execution_count": 95,
   "metadata": {},
   "outputs": [
    {
     "name": "stdout",
     "output_type": "stream",
     "text": [
      "States: ['S0', 'S1', 'S2']\n",
      "Actions: ['a', 'b']\n",
      "Transition from S0 with no action and targets ['S1', 'S2'] with weights [5, 5]\n",
      "Transition from S1 with action b and targets ['S1', 'S0'] with weights [2, 8]\n",
      "Transition from S1 with action a and targets ['S2', 'S0', 'S1'] with weights [1, 3, 6]\n",
      "Transition from S2 with action c and targets ['S0', 'S1'] with weights [5, 5]\n",
      "{'States': ['S0', 'S1', 'S2'], 'Actions': ['a', 'b'], 'Transitions_with_action': {1: {'from': 'S1', 'action': 'b', 'targets': ['S1', 'S0'], 'weights': [2, 8]}, 2: {'from': 'S1', 'action': 'a', 'targets': ['S2', 'S0', 'S1'], 'weights': [1, 3, 6]}, 3: {'from': 'S2', 'action': 'c', 'targets': ['S0', 'S1'], 'weights': [5, 5]}}, 'Transitions_without_action': {0: {'from': 'S0', 'targets': ['S1', 'S2'], 'weights': [5, 5]}}}\n"
     ]
    }
   ],
   "source": [
    "! python mdp.py < ex.mdp"
   ]
  },
  {
   "cell_type": "code",
   "execution_count": 96,
   "metadata": {},
   "outputs": [
    {
     "name": "stdout",
     "output_type": "stream",
     "text": [
      "Données récupérées {'States': ['S0', 'S1', 'S2'], 'Actions': ['a', 'b'], 'Transitions_with_action': {1: {'from': 'S1', 'action': 'b', 'targets': ['S1', 'S0'], 'weights': [2, 8]}, 2: {'from': 'S1', 'action': 'a', 'targets': ['S2', 'S0', 'S1'], 'weights': [1, 3, 6]}, 3: {'from': 'S2', 'action': 'c', 'targets': ['S0', 'S1'], 'weights': [5, 5]}}, 'Transitions_without_action': {0: {'from': 'S0', 'targets': ['S1', 'S2'], 'weights': [5, 5]}}}\n"
     ]
    }
   ],
   "source": [
    "# On lit le .pickle des données que l'on souhaitent récupérer\n",
    "\n",
    "# Read list to memory\n",
    "def read_list(nom_liste):\n",
    "    # for reading also binary mode is important\n",
    "    with open(nom_liste, 'rb') as fp:\n",
    "        liste = pickle.load(fp)\n",
    "        return liste\n",
    "\n",
    "L = read_list(\"liste_donnees\")\n",
    "print('Données récupérées', L)"
   ]
  },
  {
   "cell_type": "code",
   "execution_count": 97,
   "metadata": {},
   "outputs": [
    {
     "name": "stdout",
     "output_type": "stream",
     "text": [
      "States: ['S0', 'S1', 'S2']\n",
      "Actions: ['a', 'b']\n",
      "Transition with action: {'from': 'S1', 'action': 'b', 'targets': ['S1', 'S0'], 'weights': [2, 8]}\n",
      "Transition with action: {'from': 'S1', 'action': 'a', 'targets': ['S2', 'S0', 'S1'], 'weights': [1, 3, 6]}\n",
      "Transition with action: {'from': 'S2', 'action': 'c', 'targets': ['S0', 'S1'], 'weights': [5, 5]}\n",
      "Transition without action: {'from': 'S0', 'targets': ['S1', 'S2'], 'weights': [5, 5]}\n"
     ]
    }
   ],
   "source": [
    "print('States:', L['States'])\n",
    "print('Actions:', L['Actions'])\n",
    "for transitions in L['Transitions_with_action']:\n",
    "    print('Transition with action' ':', L['Transitions_with_action'][transitions])\n",
    "for transitions in L['Transitions_without_action']:\n",
    "    print('Transition without action' ':', L['Transitions_without_action'][transitions])"
   ]
  },
  {
   "cell_type": "code",
   "execution_count": 98,
   "metadata": {},
   "outputs": [],
   "source": [
    "import graphviz\n",
    "\n",
    "dot = graphviz.Digraph(comment='Processus de Décision Markoviens')\n",
    "\n",
    "for i, state in enumerate(L['States']):\n",
    "    dot.node(str(i), state)\n",
    "\n",
    "dot.edges(['02','12'])\n",
    "dot.edge('0', '1', label='test')"
   ]
  },
  {
   "attachments": {},
   "cell_type": "markdown",
   "metadata": {},
   "source": [
    "Utiliser la bibliothèque graphviz pour l'affichage. \n",
    "Quelques liens utiles :\n",
    "\n",
    "Les attributs possibles pour les différentes fonctions : https://www.graphviz.org/doc/info/attrs.html\n",
    "\n",
    "Doc graphviz : https://graphviz.readthedocs.io/en/stable/manual.html"
   ]
  },
  {
   "cell_type": "code",
   "execution_count": 99,
   "metadata": {},
   "outputs": [
    {
     "name": "stdout",
     "output_type": "stream",
     "text": [
      "// Processus de Décision Markoviens\n",
      "digraph {\n",
      "\t0 [label=S0]\n",
      "\t1 [label=S1]\n",
      "\t2 [label=S2]\n",
      "\t0 -> 2\n",
      "\t1 -> 2\n",
      "\t0 -> 1 [label=test]\n",
      "}\n",
      "\n"
     ]
    }
   ],
   "source": [
    "print(dot.source)"
   ]
  },
  {
   "cell_type": "code",
   "execution_count": 100,
   "metadata": {},
   "outputs": [
    {
     "data": {
      "image/svg+xml": "<?xml version=\"1.0\" encoding=\"UTF-8\" standalone=\"no\"?>\n<!DOCTYPE svg PUBLIC \"-//W3C//DTD SVG 1.1//EN\"\n \"http://www.w3.org/Graphics/SVG/1.1/DTD/svg11.dtd\">\n<!-- Generated by graphviz version 6.0.1 (0)\n -->\n<!-- Pages: 1 -->\n<svg width=\"99pt\" height=\"204pt\"\n viewBox=\"0.00 0.00 99.00 204.00\" xmlns=\"http://www.w3.org/2000/svg\" xmlns:xlink=\"http://www.w3.org/1999/xlink\">\n<g id=\"graph0\" class=\"graph\" transform=\"scale(1 1) rotate(0) translate(4 200)\">\n<polygon fill=\"white\" stroke=\"none\" points=\"-4,4 -4,-200 95,-200 95,4 -4,4\"/>\n<!-- 0 -->\n<g id=\"node1\" class=\"node\">\n<title>0</title>\n<ellipse fill=\"none\" stroke=\"black\" cx=\"64\" cy=\"-178\" rx=\"27\" ry=\"18\"/>\n<text text-anchor=\"middle\" x=\"64\" y=\"-174.3\" font-family=\"Times New Roman,serif\" font-size=\"14.00\">S0</text>\n</g>\n<!-- 1 -->\n<g id=\"node2\" class=\"node\">\n<title>1</title>\n<ellipse fill=\"none\" stroke=\"black\" cx=\"27\" cy=\"-91\" rx=\"27\" ry=\"18\"/>\n<text text-anchor=\"middle\" x=\"27\" y=\"-87.3\" font-family=\"Times New Roman,serif\" font-size=\"14.00\">S1</text>\n</g>\n<!-- 0&#45;&gt;1 -->\n<g id=\"edge3\" class=\"edge\">\n<title>0&#45;&gt;1</title>\n<path fill=\"none\" stroke=\"black\" d=\"M56.87,-160.61C51.63,-148.58 44.4,-131.98 38.37,-118.13\"/>\n<polygon fill=\"black\" stroke=\"black\" points=\"41.44,-116.4 34.24,-108.63 35.02,-119.19 41.44,-116.4\"/>\n<text text-anchor=\"middle\" x=\"57.5\" y=\"-130.8\" font-family=\"Times New Roman,serif\" font-size=\"14.00\">test</text>\n</g>\n<!-- 2 -->\n<g id=\"node3\" class=\"node\">\n<title>2</title>\n<ellipse fill=\"none\" stroke=\"black\" cx=\"54\" cy=\"-18\" rx=\"27\" ry=\"18\"/>\n<text text-anchor=\"middle\" x=\"54\" y=\"-14.3\" font-family=\"Times New Roman,serif\" font-size=\"14.00\">S2</text>\n</g>\n<!-- 0&#45;&gt;2 -->\n<g id=\"edge1\" class=\"edge\">\n<title>0&#45;&gt;2</title>\n<path fill=\"none\" stroke=\"black\" d=\"M66.34,-159.94C67.02,-154.25 67.67,-147.86 68,-142 69.88,-108.92 64.42,-71.07 59.78,-46.19\"/>\n<polygon fill=\"black\" stroke=\"black\" points=\"63.15,-45.2 57.79,-36.06 56.28,-46.55 63.15,-45.2\"/>\n</g>\n<!-- 1&#45;&gt;2 -->\n<g id=\"edge2\" class=\"edge\">\n<title>1&#45;&gt;2</title>\n<path fill=\"none\" stroke=\"black\" d=\"M33.4,-73.17C36.56,-64.86 40.45,-54.64 43.99,-45.33\"/>\n<polygon fill=\"black\" stroke=\"black\" points=\"47.36,-46.3 47.65,-35.71 40.82,-43.81 47.36,-46.3\"/>\n</g>\n</g>\n</svg>\n",
      "text/plain": [
       "<graphviz.graphs.Digraph at 0x26ae4909c00>"
      ]
     },
     "execution_count": 100,
     "metadata": {},
     "output_type": "execute_result"
    }
   ],
   "source": [
    "dot"
   ]
  }
 ],
 "metadata": {
  "kernelspec": {
   "display_name": "TP1",
   "language": "python",
   "name": "python3"
  },
  "language_info": {
   "codemirror_mode": {
    "name": "ipython",
    "version": 3
   },
   "file_extension": ".py",
   "mimetype": "text/x-python",
   "name": "python",
   "nbconvert_exporter": "python",
   "pygments_lexer": "ipython3",
   "version": "3.10.6"
  },
  "orig_nbformat": 4,
  "vscode": {
   "interpreter": {
    "hash": "40f7c2dd250ea64d1f119704b8cfa97c376b5923eda5d57d2493e68729089b32"
   }
  }
 },
 "nbformat": 4,
 "nbformat_minor": 2
}
