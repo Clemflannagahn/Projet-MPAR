{
 "cells": [
  {
   "cell_type": "code",
   "execution_count": 28,
   "metadata": {},
   "outputs": [],
   "source": [
    "import mdp"
   ]
  },
  {
   "cell_type": "code",
   "execution_count": 29,
   "metadata": {},
   "outputs": [
    {
     "name": "stdout",
     "output_type": "stream",
     "text": [
      "States: ['S0', 'S1', 'S2']\n",
      "Actions: ['a', 'b']\n",
      "Transition from S0 with no action and targets ['S1', 'S2'] with weights [5, 5]\n",
      "Transition from S1 with action b and targets ['S1', 'S0'] with weights [2, 8]\n",
      "Transition from S1 with action a and targets ['S2', 'S0', 'S1'] with weights [1, 3, 6]\n",
      "Transition from S2 with action c and targets ['S0', 'S1'] with weights [5, 5]\n",
      "[[['S1', 'S0'], 'S1', 'b', [2, 8]], [['S2', 'S0', 'S1'], 'S1', 'a', [1, 3, 6]], [['S0', 'S1'], 'S2', 'c', [5, 5]]]\n"
     ]
    }
   ],
   "source": [
    "! python mdp.py < ex.mdp"
   ]
  },
  {
   "cell_type": "code",
   "execution_count": 30,
   "metadata": {},
   "outputs": [
    {
     "data": {
      "text/plain": [
       "[]"
      ]
     },
     "execution_count": 30,
     "metadata": {},
     "output_type": "execute_result"
    }
   ],
   "source": [
    "from mdp import test_liste\n",
    "test_liste"
   ]
  }
 ],
 "metadata": {
  "kernelspec": {
   "display_name": "TP1",
   "language": "python",
   "name": "python3"
  },
  "language_info": {
   "codemirror_mode": {
    "name": "ipython",
    "version": 3
   },
   "file_extension": ".py",
   "mimetype": "text/x-python",
   "name": "python",
   "nbconvert_exporter": "python",
   "pygments_lexer": "ipython3",
   "version": "3.10.6"
  },
  "orig_nbformat": 4,
  "vscode": {
   "interpreter": {
    "hash": "40f7c2dd250ea64d1f119704b8cfa97c376b5923eda5d57d2493e68729089b32"
   }
  }
 },
 "nbformat": 4,
 "nbformat_minor": 2
}
