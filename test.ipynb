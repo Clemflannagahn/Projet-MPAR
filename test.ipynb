{
 "cells": [
  {
   "cell_type": "code",
   "execution_count": 4,
   "metadata": {},
   "outputs": [
    {
     "name": "stdout",
     "output_type": "stream",
     "text": [
      "['S5', 'S4']\n",
      "None\n"
     ]
    }
   ],
   "source": [
    "S1 = [\"S1\", \"S2\",\"S3\"]\n",
    "\n",
    "S = [\"S1\", \"S2\", \"S5\",\"S3\",\"S4\"]\n",
    "\n",
    "S2 = [x for x in S if x not in S1]\n",
    "print(S2)\n",
    "\n",
    "S2.remove(\"S4\")\n",
    "print(S2)"
   ]
  }
 ],
 "metadata": {
  "kernelspec": {
   "display_name": "TP1",
   "language": "python",
   "name": "python3"
  },
  "language_info": {
   "codemirror_mode": {
    "name": "ipython",
    "version": 3
   },
   "file_extension": ".py",
   "mimetype": "text/x-python",
   "name": "python",
   "nbconvert_exporter": "python",
   "pygments_lexer": "ipython3",
   "version": "3.10.6"
  },
  "orig_nbformat": 4
 },
 "nbformat": 4,
 "nbformat_minor": 2
}
